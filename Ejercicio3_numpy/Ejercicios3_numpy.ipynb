{
 "cells": [
  {
   "cell_type": "markdown",
   "id": "a16f52f1",
   "metadata": {},
   "source": [
    "i. Reproducir la matriz B:\n",
    "\n",
    "[[0.4 0.41 0.42 0.43 0.44]\n",
    "\n",
    "[0.45 0.46 0.47 0.48 0.49]\n",
    "\n",
    "[0.5 0.51 0.52 0.53 0.54]\n",
    "\n",
    "[0.55 0.56 0.57 0.58 0.59]\n",
    "\n",
    "[0.6 0.61 0.62 0.63 0.64]\n",
    "\n",
    "[0.65 0.66 0.67 0.68 0.69]\n",
    "\n",
    "[0.7 0.71 0.72 0.73 0.74]\n",
    "\n",
    "[0.75 0.76 0.77 0.78 0.79]]\n",
    "\n",
    "ii. Unir B con el resultado del ejercicio anterior 2.ii para obtener una matriz de 8 lineas y 13 columnas.\n",
    "\n",
    "iii. Agregar una linea al final con el promedio de cada columna\n",
    "\n",
    "iv. Agregar una columna al final con el valor maximo de cada fila\n",
    "\n",
    "v. Guardar en un archivo."
   ]
  },
  {
   "cell_type": "code",
   "execution_count": 1,
   "id": "f38a5bf9",
   "metadata": {},
   "outputs": [],
   "source": [
    "import numpy as np"
   ]
  },
  {
   "cell_type": "code",
   "execution_count": 7,
   "id": "bd5c4452",
   "metadata": {},
   "outputs": [
    {
     "data": {
      "text/plain": [
       "array([0.4 , 0.41, 0.42, 0.43, 0.44, 0.45, 0.46, 0.47, 0.48, 0.49, 0.5 ,\n",
       "       0.51, 0.52, 0.53, 0.54, 0.55, 0.56, 0.57, 0.58, 0.59, 0.6 , 0.61,\n",
       "       0.62, 0.63, 0.64, 0.65, 0.66, 0.67, 0.68, 0.69, 0.7 , 0.71, 0.72,\n",
       "       0.73, 0.74, 0.75, 0.76, 0.77, 0.78, 0.79])"
      ]
     },
     "execution_count": 7,
     "metadata": {},
     "output_type": "execute_result"
    }
   ],
   "source": [
    "#Creamos primero el vector de todos los numeros\n",
    "B_vector = np.arange(0.4, 0.8, 0.01)\n",
    "B_vector"
   ]
  },
  {
   "cell_type": "code",
   "execution_count": 9,
   "id": "00871ba6",
   "metadata": {},
   "outputs": [
    {
     "data": {
      "text/plain": [
       "array([[0.4 , 0.41, 0.42, 0.43, 0.44],\n",
       "       [0.45, 0.46, 0.47, 0.48, 0.49],\n",
       "       [0.5 , 0.51, 0.52, 0.53, 0.54],\n",
       "       [0.55, 0.56, 0.57, 0.58, 0.59],\n",
       "       [0.6 , 0.61, 0.62, 0.63, 0.64],\n",
       "       [0.65, 0.66, 0.67, 0.68, 0.69],\n",
       "       [0.7 , 0.71, 0.72, 0.73, 0.74],\n",
       "       [0.75, 0.76, 0.77, 0.78, 0.79]])"
      ]
     },
     "execution_count": 9,
     "metadata": {},
     "output_type": "execute_result"
    }
   ],
   "source": [
    "#Convertimos el vector en una matriz\n",
    "B =B_vector.reshape(8,5)\n",
    "B"
   ]
  },
  {
   "cell_type": "code",
   "execution_count": null,
   "id": "a4d5ad2f",
   "metadata": {},
   "outputs": [],
   "source": []
  }
 ],
 "metadata": {
  "kernelspec": {
   "display_name": "Python 3 (ipykernel)",
   "language": "python",
   "name": "python3"
  },
  "language_info": {
   "codemirror_mode": {
    "name": "ipython",
    "version": 3
   },
   "file_extension": ".py",
   "mimetype": "text/x-python",
   "name": "python",
   "nbconvert_exporter": "python",
   "pygments_lexer": "ipython3",
   "version": "3.9.13"
  }
 },
 "nbformat": 4,
 "nbformat_minor": 5
}
