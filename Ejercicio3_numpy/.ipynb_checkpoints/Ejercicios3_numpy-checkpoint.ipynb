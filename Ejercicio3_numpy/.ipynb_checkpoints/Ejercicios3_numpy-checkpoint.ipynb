{
 "cells": [
  {
   "cell_type": "markdown",
   "id": "a16f52f1",
   "metadata": {},
   "source": [
    "i. Reproducir la matriz B:\n",
    "\n",
    "[[0.4 0.41 0.42 0.43 0.44]\n",
    "\n",
    "[0.45 0.46 0.47 0.48 0.49]\n",
    "\n",
    "[0.5 0.51 0.52 0.53 0.54]\n",
    "\n",
    "[0.55 0.56 0.57 0.58 0.59]\n",
    "\n",
    "[0.6 0.61 0.62 0.63 0.64]\n",
    "\n",
    "[0.65 0.66 0.67 0.68 0.69]\n",
    "\n",
    "[0.7 0.71 0.72 0.73 0.74]\n",
    "\n",
    "[0.75 0.76 0.77 0.78 0.79]]\n",
    "\n",
    "ii. Unir B con el resultado del ejercicio anterior 2.ii para obtener una matriz de 8 lineas y 13 columnas.\n",
    "\n",
    "iii. Agregar una linea al final con el promedio de cada columna\n",
    "\n",
    "iv. Agregar una columna al final con el valor maximo de cada fila\n",
    "\n",
    "v. Guardar en un archivo."
   ]
  },
  {
   "cell_type": "code",
   "execution_count": 47,
   "id": "f38a5bf9",
   "metadata": {},
   "outputs": [],
   "source": [
    "import numpy as np"
   ]
  },
  {
   "cell_type": "code",
   "execution_count": 48,
   "id": "bd5c4452",
   "metadata": {},
   "outputs": [
    {
     "data": {
      "text/plain": [
       "array([0.4 , 0.41, 0.42, 0.43, 0.44, 0.45, 0.46, 0.47, 0.48, 0.49, 0.5 ,\n",
       "       0.51, 0.52, 0.53, 0.54, 0.55, 0.56, 0.57, 0.58, 0.59, 0.6 , 0.61,\n",
       "       0.62, 0.63, 0.64, 0.65, 0.66, 0.67, 0.68, 0.69, 0.7 , 0.71, 0.72,\n",
       "       0.73, 0.74, 0.75, 0.76, 0.77, 0.78, 0.79])"
      ]
     },
     "execution_count": 48,
     "metadata": {},
     "output_type": "execute_result"
    }
   ],
   "source": [
    "#Creamos primero el vector de todos los numeros\n",
    "B_vector = np.arange(0.4, 0.8, 0.01)\n",
    "B_vector"
   ]
  },
  {
   "cell_type": "code",
   "execution_count": 49,
   "id": "00871ba6",
   "metadata": {},
   "outputs": [
    {
     "data": {
      "text/plain": [
       "array([[0.4 , 0.41, 0.42, 0.43, 0.44],\n",
       "       [0.45, 0.46, 0.47, 0.48, 0.49],\n",
       "       [0.5 , 0.51, 0.52, 0.53, 0.54],\n",
       "       [0.55, 0.56, 0.57, 0.58, 0.59],\n",
       "       [0.6 , 0.61, 0.62, 0.63, 0.64],\n",
       "       [0.65, 0.66, 0.67, 0.68, 0.69],\n",
       "       [0.7 , 0.71, 0.72, 0.73, 0.74],\n",
       "       [0.75, 0.76, 0.77, 0.78, 0.79]])"
      ]
     },
     "execution_count": 49,
     "metadata": {},
     "output_type": "execute_result"
    }
   ],
   "source": [
    "#Convertimos el vector en una matriz\n",
    "B =B_vector.reshape(8,5)\n",
    "B"
   ]
  },
  {
   "cell_type": "code",
   "execution_count": 50,
   "id": "a4d5ad2f",
   "metadata": {},
   "outputs": [
    {
     "data": {
      "text/plain": [
       "array([[ 1,  2,  3,  4,  5,  6,  7,  8],\n",
       "       [ 9, 10, 11, 12, 13, 14, 15, 16],\n",
       "       [17, 18, 19, 20, 21, 22, 23, 24],\n",
       "       [25, 26, 27, 28, 29, 30, 31, 32],\n",
       "       [33, 34, 35, 36, 37, 38, 39, 40],\n",
       "       [41, 42, 43, 44, 45, 46, 47, 48],\n",
       "       [49, 50, 51, 52, 53, 54, 55, 56],\n",
       "       [57, 58, 59, 60, 61, 62, 63, 64]])"
      ]
     },
     "execution_count": 50,
     "metadata": {},
     "output_type": "execute_result"
    }
   ],
   "source": [
    "#Utilizando la matriz del ejercicio anterior\n",
    "linea = np.arange(1,65,1)\n",
    "C = linea.reshape(8,8)\n",
    "C"
   ]
  },
  {
   "cell_type": "code",
   "execution_count": 51,
   "id": "af8ff373",
   "metadata": {},
   "outputs": [
    {
     "data": {
      "text/plain": [
       "array([[ 0.4 ,  0.41,  0.42,  0.43,  0.44,  1.  ,  2.  ,  3.  ,  4.  ,\n",
       "         5.  ,  6.  ,  7.  ,  8.  ],\n",
       "       [ 0.45,  0.46,  0.47,  0.48,  0.49,  9.  , 10.  , 11.  , 12.  ,\n",
       "        13.  , 14.  , 15.  , 16.  ],\n",
       "       [ 0.5 ,  0.51,  0.52,  0.53,  0.54, 17.  , 18.  , 19.  , 20.  ,\n",
       "        21.  , 22.  , 23.  , 24.  ],\n",
       "       [ 0.55,  0.56,  0.57,  0.58,  0.59, 25.  , 26.  , 27.  , 28.  ,\n",
       "        29.  , 30.  , 31.  , 32.  ],\n",
       "       [ 0.6 ,  0.61,  0.62,  0.63,  0.64, 33.  , 34.  , 35.  , 36.  ,\n",
       "        37.  , 38.  , 39.  , 40.  ],\n",
       "       [ 0.65,  0.66,  0.67,  0.68,  0.69, 41.  , 42.  , 43.  , 44.  ,\n",
       "        45.  , 46.  , 47.  , 48.  ],\n",
       "       [ 0.7 ,  0.71,  0.72,  0.73,  0.74, 49.  , 50.  , 51.  , 52.  ,\n",
       "        53.  , 54.  , 55.  , 56.  ],\n",
       "       [ 0.75,  0.76,  0.77,  0.78,  0.79, 57.  , 58.  , 59.  , 60.  ,\n",
       "        61.  , 62.  , 63.  , 64.  ]])"
      ]
     },
     "execution_count": 51,
     "metadata": {},
     "output_type": "execute_result"
    }
   ],
   "source": [
    "A = np.append(B,C, axis=1)\n",
    "A"
   ]
  },
  {
   "cell_type": "code",
   "execution_count": 52,
   "id": "a85ece1c",
   "metadata": {},
   "outputs": [
    {
     "data": {
      "text/plain": [
       "array([[ 0.575,  0.585,  0.595,  0.605,  0.615, 29.   , 30.   , 31.   ,\n",
       "        32.   , 33.   , 34.   , 35.   , 36.   ,  0.   ]])"
      ]
     },
     "execution_count": 52,
     "metadata": {},
     "output_type": "execute_result"
    }
   ],
   "source": [
    "#Promedios de cada columna\n",
    "promedios_col = []\n",
    "for i in range(0,13):\n",
    "    #print(A[:,i])\n",
    "    #print(np.mean(A[:,i]))\n",
    "    promedios_col.append(np.mean(A[:,i]))\n",
    "\n",
    "promedios_col.append(0)\n",
    "promedios_col = np.array(promedios_col).reshape(1,14)\n",
    "promedios_col"
   ]
  },
  {
   "cell_type": "code",
   "execution_count": 53,
   "id": "cfff5661",
   "metadata": {},
   "outputs": [
    {
     "data": {
      "text/plain": [
       "array([[ 8.],\n",
       "       [16.],\n",
       "       [24.],\n",
       "       [32.],\n",
       "       [40.],\n",
       "       [48.],\n",
       "       [56.],\n",
       "       [64.]])"
      ]
     },
     "execution_count": 53,
     "metadata": {},
     "output_type": "execute_result"
    }
   ],
   "source": [
    "#Max de cada fila\n",
    "fila_max = []\n",
    "for fila in A:\n",
    "    #print(fila)\n",
    "    #print(np.max(fila))\n",
    "    fila_max.append(np.max(fila))\n",
    "\n",
    "#fila_max.append('0.0')\n",
    "fila_max = np.array(fila_max).reshape(8,1)\n",
    "fila_max"
   ]
  },
  {
   "cell_type": "code",
   "execution_count": 54,
   "id": "a9c80041",
   "metadata": {},
   "outputs": [
    {
     "data": {
      "text/plain": [
       "array([[ 0.4  ,  0.41 ,  0.42 ,  0.43 ,  0.44 ,  1.   ,  2.   ,  3.   ,\n",
       "         4.   ,  5.   ,  6.   ,  7.   ,  8.   ,  8.   ],\n",
       "       [ 0.45 ,  0.46 ,  0.47 ,  0.48 ,  0.49 ,  9.   , 10.   , 11.   ,\n",
       "        12.   , 13.   , 14.   , 15.   , 16.   , 16.   ],\n",
       "       [ 0.5  ,  0.51 ,  0.52 ,  0.53 ,  0.54 , 17.   , 18.   , 19.   ,\n",
       "        20.   , 21.   , 22.   , 23.   , 24.   , 24.   ],\n",
       "       [ 0.55 ,  0.56 ,  0.57 ,  0.58 ,  0.59 , 25.   , 26.   , 27.   ,\n",
       "        28.   , 29.   , 30.   , 31.   , 32.   , 32.   ],\n",
       "       [ 0.6  ,  0.61 ,  0.62 ,  0.63 ,  0.64 , 33.   , 34.   , 35.   ,\n",
       "        36.   , 37.   , 38.   , 39.   , 40.   , 40.   ],\n",
       "       [ 0.65 ,  0.66 ,  0.67 ,  0.68 ,  0.69 , 41.   , 42.   , 43.   ,\n",
       "        44.   , 45.   , 46.   , 47.   , 48.   , 48.   ],\n",
       "       [ 0.7  ,  0.71 ,  0.72 ,  0.73 ,  0.74 , 49.   , 50.   , 51.   ,\n",
       "        52.   , 53.   , 54.   , 55.   , 56.   , 56.   ],\n",
       "       [ 0.75 ,  0.76 ,  0.77 ,  0.78 ,  0.79 , 57.   , 58.   , 59.   ,\n",
       "        60.   , 61.   , 62.   , 63.   , 64.   , 64.   ],\n",
       "       [ 0.575,  0.585,  0.595,  0.605,  0.615, 29.   , 30.   , 31.   ,\n",
       "        32.   , 33.   , 34.   , 35.   , 36.   ,  0.   ]])"
      ]
     },
     "execution_count": 54,
     "metadata": {},
     "output_type": "execute_result"
    }
   ],
   "source": [
    "#Matriz de resultados\n",
    "Resultado = np.concatenate([A,fila_max], axis=1)\n",
    "Resultado = np.concatenate([Resultado,promedios_col], axis=0)\n",
    "Resultado"
   ]
  },
  {
   "cell_type": "code",
   "execution_count": 55,
   "id": "df882f7f",
   "metadata": {},
   "outputs": [],
   "source": [
    "np.savetxt('Resultado.tsv', Resultado, delimiter='\\t', fmt='%.2f')"
   ]
  },
  {
   "cell_type": "code",
   "execution_count": null,
   "id": "25b71fbc",
   "metadata": {},
   "outputs": [],
   "source": []
  }
 ],
 "metadata": {
  "kernelspec": {
   "display_name": "Python 3 (ipykernel)",
   "language": "python",
   "name": "python3"
  },
  "language_info": {
   "codemirror_mode": {
    "name": "ipython",
    "version": 3
   },
   "file_extension": ".py",
   "mimetype": "text/x-python",
   "name": "python",
   "nbconvert_exporter": "python",
   "pygments_lexer": "ipython3",
   "version": "3.9.13"
  }
 },
 "nbformat": 4,
 "nbformat_minor": 5
}
