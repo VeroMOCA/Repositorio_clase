{
 "cells": [
  {
   "cell_type": "code",
   "execution_count": 1,
   "id": "a846f26f",
   "metadata": {},
   "outputs": [],
   "source": [
    "import numpy as np"
   ]
  },
  {
   "cell_type": "markdown",
   "id": "ac24da03",
   "metadata": {},
   "source": [
    "Ejercicio 1:\n",
    "Hacer una matriz de 8 x 8 con numeros enteros consecutivos empezando en 1. Llenado por filas (1,2,3,4...).\n",
    "\n",
    "\n",
    "Ejercicio 2:\n",
    "i. Hacer una matriz de 8 x 8 con numeros enteros consecutivos empezando en 1. Llenado por columnas.\n",
    "\n",
    "ii. reemplazar los elementos que tengan al menos un 3 por -99."
   ]
  },
  {
   "cell_type": "code",
   "execution_count": 84,
   "id": "424103f1",
   "metadata": {},
   "outputs": [
    {
     "data": {
      "text/plain": [
       "array([ 1,  2,  3,  4,  5,  6,  7,  8,  9, 10, 11, 12, 13, 14, 15, 16, 17,\n",
       "       18, 19, 20, 21, 22, 23, 24, 25, 26, 27, 28, 29, 30, 31, 32, 33, 34,\n",
       "       35, 36, 37, 38, 39, 40, 41, 42, 43, 44, 45, 46, 47, 48, 49, 50, 51,\n",
       "       52, 53, 54, 55, 56, 57, 58, 59, 60, 61, 62, 63, 64])"
      ]
     },
     "execution_count": 84,
     "metadata": {},
     "output_type": "execute_result"
    }
   ],
   "source": [
    "#Creando primero el arreglo de 1-64\n",
    "linea = np.arange(1,65,1)\n",
    "linea"
   ]
  },
  {
   "cell_type": "code",
   "execution_count": 85,
   "id": "dd36575d",
   "metadata": {},
   "outputs": [
    {
     "data": {
      "text/plain": [
       "array([[ 1,  2,  3,  4,  5,  6,  7,  8],\n",
       "       [ 9, 10, 11, 12, 13, 14, 15, 16],\n",
       "       [17, 18, 19, 20, 21, 22, 23, 24],\n",
       "       [25, 26, 27, 28, 29, 30, 31, 32],\n",
       "       [33, 34, 35, 36, 37, 38, 39, 40],\n",
       "       [41, 42, 43, 44, 45, 46, 47, 48],\n",
       "       [49, 50, 51, 52, 53, 54, 55, 56],\n",
       "       [57, 58, 59, 60, 61, 62, 63, 64]])"
      ]
     },
     "execution_count": 85,
     "metadata": {},
     "output_type": "execute_result"
    }
   ],
   "source": [
    "#Organizando los valores en una matriz de 8x8 por filas\n",
    "filas = linea.reshape(8,8)\n",
    "filas"
   ]
  },
  {
   "cell_type": "code",
   "execution_count": 86,
   "id": "8bc903e1",
   "metadata": {},
   "outputs": [
    {
     "data": {
      "text/plain": [
       "array([[ 1,  9, 17, 25, 33, 41, 49, 57],\n",
       "       [ 2, 10, 18, 26, 34, 42, 50, 58],\n",
       "       [ 3, 11, 19, 27, 35, 43, 51, 59],\n",
       "       [ 4, 12, 20, 28, 36, 44, 52, 60],\n",
       "       [ 5, 13, 21, 29, 37, 45, 53, 61],\n",
       "       [ 6, 14, 22, 30, 38, 46, 54, 62],\n",
       "       [ 7, 15, 23, 31, 39, 47, 55, 63],\n",
       "       [ 8, 16, 24, 32, 40, 48, 56, 64]])"
      ]
     },
     "execution_count": 86,
     "metadata": {},
     "output_type": "execute_result"
    }
   ],
   "source": [
    "#Transponiendo los valores a una matriz de 8x8 por columnas\n",
    "columns = filas.transpose()\n",
    "columns"
   ]
  },
  {
   "cell_type": "code",
   "execution_count": 105,
   "id": "5e9cd4ab",
   "metadata": {},
   "outputs": [
    {
     "data": {
      "text/plain": [
       "array([[  1,   9, -99,  25, -99,  41,  49,  57],\n",
       "       [  2,  10,  18,  26, -99,  42,  50,  58],\n",
       "       [-99,  11,  19,  27, -99, -99, -99,  59],\n",
       "       [  4,  12,  20,  28, -99, -99, -99, -99],\n",
       "       [-99, -99, -99, -99, -99, -99, -99,  61],\n",
       "       [  6,  14, -99, -99, -99,  46,  54,  62],\n",
       "       [  7,  15, -99, -99, -99,  47,  55, -99],\n",
       "       [  8,  16,  24, -99,  40,  48, -99,  64]])"
      ]
     },
     "execution_count": 105,
     "metadata": {},
     "output_type": "execute_result"
    }
   ],
   "source": [
    "#Cambiando los valores que tengan 3 por un -99\n",
    "for indrow, row in enumerate (columns): #se corre por fila y se obtiene los indices\n",
    "    for indcol, element in enumerate (row): #se corre por columnas y se obtiene los indices\n",
    "        x = str(element) #convertimos a string el indice\n",
    "        temp = x.find('3') #se encuentra los elementos con el elemento '3'\n",
    "        if (temp != -1): #se busca los elementos con el -1\n",
    "            #print(element, indcol, indrow)\n",
    "            columns[indrow, indcol] = -99 #pasamos los indices para cambiar el valor a -99\n",
    "columns"
   ]
  },
  {
   "cell_type": "code",
   "execution_count": 79,
   "id": "c70ce09e",
   "metadata": {},
   "outputs": [],
   "source": [
    "#Método de Sergio\n",
    "for i in range(8):\n",
    "    for j in range(8):\n",
    "        #print(columns[i][j])\n",
    "        x = str(columns[i][j])\n",
    "        temp = x.find('3')\n",
    "        if(temp != -1):\n",
    "            columns[i][j]=-99"
   ]
  },
  {
   "cell_type": "code",
   "execution_count": 80,
   "id": "8c7cff10",
   "metadata": {},
   "outputs": [
    {
     "name": "stdout",
     "output_type": "stream",
     "text": [
      "[[  1   9 -99  25 -99  41  49  57]\n",
      " [  2  10  18  26 -99  42  50  58]\n",
      " [-99  11  19  27 -99 -99 -99  59]\n",
      " [  4  12  20  28 -99 -99 -99 -99]\n",
      " [-99 -99 -99 -99 -99 -99 -99  61]\n",
      " [  6  14 -99 -99 -99  46  54  62]\n",
      " [  7  15 -99 -99 -99  47  55 -99]\n",
      " [  8  16  24 -99  40  48 -99  64]]\n"
     ]
    }
   ],
   "source": [
    "print(columns)"
   ]
  }
 ],
 "metadata": {
  "kernelspec": {
   "display_name": "Python 3 (ipykernel)",
   "language": "python",
   "name": "python3"
  },
  "language_info": {
   "codemirror_mode": {
    "name": "ipython",
    "version": 3
   },
   "file_extension": ".py",
   "mimetype": "text/x-python",
   "name": "python",
   "nbconvert_exporter": "python",
   "pygments_lexer": "ipython3",
   "version": "3.9.13"
  }
 },
 "nbformat": 4,
 "nbformat_minor": 5
}
