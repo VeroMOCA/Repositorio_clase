{
 "cells": [
  {
   "cell_type": "code",
   "execution_count": 1,
   "id": "2a99f89e",
   "metadata": {},
   "outputs": [],
   "source": [
    "import pandas as pd\n",
    "import numpy as np"
   ]
  },
  {
   "cell_type": "code",
   "execution_count": 2,
   "id": "ebd44064",
   "metadata": {},
   "outputs": [
    {
     "data": {
      "text/html": [
       "<div>\n",
       "<style scoped>\n",
       "    .dataframe tbody tr th:only-of-type {\n",
       "        vertical-align: middle;\n",
       "    }\n",
       "\n",
       "    .dataframe tbody tr th {\n",
       "        vertical-align: top;\n",
       "    }\n",
       "\n",
       "    .dataframe thead th {\n",
       "        text-align: right;\n",
       "    }\n",
       "</style>\n",
       "<table border=\"1\" class=\"dataframe\">\n",
       "  <thead>\n",
       "    <tr style=\"text-align: right;\">\n",
       "      <th></th>\n",
       "      <th>V</th>\n",
       "      <th>W</th>\n",
       "      <th>X</th>\n",
       "      <th>Y</th>\n",
       "      <th>Z</th>\n",
       "    </tr>\n",
       "  </thead>\n",
       "  <tbody>\n",
       "    <tr>\n",
       "      <th>2023-09-15</th>\n",
       "      <td>2498</td>\n",
       "      <td>564</td>\n",
       "      <td>2038</td>\n",
       "      <td>232</td>\n",
       "      <td>a</td>\n",
       "    </tr>\n",
       "    <tr>\n",
       "      <th>2023-09-16</th>\n",
       "      <td>1005</td>\n",
       "      <td>1418</td>\n",
       "      <td>665</td>\n",
       "      <td>2184</td>\n",
       "      <td>b</td>\n",
       "    </tr>\n",
       "    <tr>\n",
       "      <th>2023-09-17</th>\n",
       "      <td>845</td>\n",
       "      <td>1955</td>\n",
       "      <td>1863</td>\n",
       "      <td>1735</td>\n",
       "      <td>c</td>\n",
       "    </tr>\n",
       "    <tr>\n",
       "      <th>2023-09-18</th>\n",
       "      <td>1316</td>\n",
       "      <td>691</td>\n",
       "      <td>956</td>\n",
       "      <td>408</td>\n",
       "      <td>d</td>\n",
       "    </tr>\n",
       "    <tr>\n",
       "      <th>2023-09-19</th>\n",
       "      <td>121</td>\n",
       "      <td>2419</td>\n",
       "      <td>293</td>\n",
       "      <td>241</td>\n",
       "      <td>a</td>\n",
       "    </tr>\n",
       "    <tr>\n",
       "      <th>2023-09-20</th>\n",
       "      <td>2411</td>\n",
       "      <td>1719</td>\n",
       "      <td>1842</td>\n",
       "      <td>848</td>\n",
       "      <td>b</td>\n",
       "    </tr>\n",
       "    <tr>\n",
       "      <th>2023-09-21</th>\n",
       "      <td>1609</td>\n",
       "      <td>2258</td>\n",
       "      <td>1024</td>\n",
       "      <td>1391</td>\n",
       "      <td>c</td>\n",
       "    </tr>\n",
       "    <tr>\n",
       "      <th>2023-09-22</th>\n",
       "      <td>2822</td>\n",
       "      <td>1016</td>\n",
       "      <td>356</td>\n",
       "      <td>1405</td>\n",
       "      <td>d</td>\n",
       "    </tr>\n",
       "  </tbody>\n",
       "</table>\n",
       "</div>"
      ],
      "text/plain": [
       "               V     W     X     Y  Z\n",
       "2023-09-15  2498   564  2038   232  a\n",
       "2023-09-16  1005  1418   665  2184  b\n",
       "2023-09-17   845  1955  1863  1735  c\n",
       "2023-09-18  1316   691   956   408  d\n",
       "2023-09-19   121  2419   293   241  a\n",
       "2023-09-20  2411  1719  1842   848  b\n",
       "2023-09-21  1609  2258  1024  1391  c\n",
       "2023-09-22  2822  1016   356  1405  d"
      ]
     },
     "execution_count": 2,
     "metadata": {},
     "output_type": "execute_result"
    }
   ],
   "source": [
    "nums = np.random.randint(100, 3000, (8, 4))\n",
    "letters = np.reshape(list(\"abcd\")*2, (8,1))\n",
    "values = np.append(nums, letters, axis = 1)\n",
    "\n",
    "fecha = pd.date_range(\"20230915\", periods=8)\n",
    "\n",
    "df = pd.DataFrame(values, index=fecha, columns=list(\"VWXYZ\"))\n",
    "df"
   ]
  },
  {
   "cell_type": "code",
   "execution_count": 14,
   "id": "68ac3a17",
   "metadata": {},
   "outputs": [
    {
     "data": {
      "text/plain": [
       "Index(['V', 'W', 'X', 'Y', 'Z'], dtype='object')"
      ]
     },
     "execution_count": 14,
     "metadata": {},
     "output_type": "execute_result"
    }
   ],
   "source": [
    "columnas = df.columns\n",
    "columnas"
   ]
  },
  {
   "cell_type": "code",
   "execution_count": 21,
   "id": "ef50e875",
   "metadata": {},
   "outputs": [
    {
     "data": {
      "text/html": [
       "<div>\n",
       "<style scoped>\n",
       "    .dataframe tbody tr th:only-of-type {\n",
       "        vertical-align: middle;\n",
       "    }\n",
       "\n",
       "    .dataframe tbody tr th {\n",
       "        vertical-align: top;\n",
       "    }\n",
       "\n",
       "    .dataframe thead th {\n",
       "        text-align: right;\n",
       "    }\n",
       "</style>\n",
       "<table border=\"1\" class=\"dataframe\">\n",
       "  <thead>\n",
       "    <tr style=\"text-align: right;\">\n",
       "      <th></th>\n",
       "      <th>V</th>\n",
       "      <th>W</th>\n",
       "      <th>X</th>\n",
       "      <th>Y</th>\n",
       "      <th>Z</th>\n",
       "    </tr>\n",
       "  </thead>\n",
       "  <tbody>\n",
       "    <tr>\n",
       "      <th>2023-09-15</th>\n",
       "      <td>2498</td>\n",
       "      <td>564</td>\n",
       "      <td>2038</td>\n",
       "      <td>232</td>\n",
       "      <td>a</td>\n",
       "    </tr>\n",
       "    <tr>\n",
       "      <th>2023-09-16</th>\n",
       "      <td>1005</td>\n",
       "      <td>1418</td>\n",
       "      <td>665</td>\n",
       "      <td>2184</td>\n",
       "      <td>b</td>\n",
       "    </tr>\n",
       "    <tr>\n",
       "      <th>2023-09-17</th>\n",
       "      <td>845</td>\n",
       "      <td>1955</td>\n",
       "      <td>1863</td>\n",
       "      <td>1735</td>\n",
       "      <td>c</td>\n",
       "    </tr>\n",
       "    <tr>\n",
       "      <th>2023-09-18</th>\n",
       "      <td>1316</td>\n",
       "      <td>691</td>\n",
       "      <td>956</td>\n",
       "      <td>408</td>\n",
       "      <td>d</td>\n",
       "    </tr>\n",
       "    <tr>\n",
       "      <th>2023-09-19</th>\n",
       "      <td>121</td>\n",
       "      <td>2419</td>\n",
       "      <td>293</td>\n",
       "      <td>241</td>\n",
       "      <td>a</td>\n",
       "    </tr>\n",
       "    <tr>\n",
       "      <th>2023-09-20</th>\n",
       "      <td>2411</td>\n",
       "      <td>1719</td>\n",
       "      <td>1842</td>\n",
       "      <td>848</td>\n",
       "      <td>b</td>\n",
       "    </tr>\n",
       "    <tr>\n",
       "      <th>2023-09-21</th>\n",
       "      <td>1609</td>\n",
       "      <td>2258</td>\n",
       "      <td>1024</td>\n",
       "      <td>1391</td>\n",
       "      <td>c</td>\n",
       "    </tr>\n",
       "    <tr>\n",
       "      <th>2023-09-22</th>\n",
       "      <td>2822</td>\n",
       "      <td>1016</td>\n",
       "      <td>356</td>\n",
       "      <td>1405</td>\n",
       "      <td>d</td>\n",
       "    </tr>\n",
       "  </tbody>\n",
       "</table>\n",
       "</div>"
      ],
      "text/plain": [
       "               V     W     X     Y  Z\n",
       "2023-09-15  2498   564  2038   232  a\n",
       "2023-09-16  1005  1418   665  2184  b\n",
       "2023-09-17   845  1955  1863  1735  c\n",
       "2023-09-18  1316   691   956   408  d\n",
       "2023-09-19   121  2419   293   241  a\n",
       "2023-09-20  2411  1719  1842   848  b\n",
       "2023-09-21  1609  2258  1024  1391  c\n",
       "2023-09-22  2822  1016   356  1405  d"
      ]
     },
     "execution_count": 21,
     "metadata": {},
     "output_type": "execute_result"
    }
   ],
   "source": [
    "for i in range(len(columnas)-1):\n",
    "    df.astype({columnas[i]:'int32'}).dtypes\n",
    "df"
   ]
  },
  {
   "cell_type": "code",
   "execution_count": 22,
   "id": "78a06643",
   "metadata": {},
   "outputs": [
    {
     "data": {
      "text/plain": [
       "V    object\n",
       "W    object\n",
       "X    object\n",
       "Y    object\n",
       "Z    object\n",
       "dtype: object"
      ]
     },
     "execution_count": 22,
     "metadata": {},
     "output_type": "execute_result"
    }
   ],
   "source": [
    "df.dtypes"
   ]
  },
  {
   "cell_type": "code",
   "execution_count": null,
   "id": "1cd6f357",
   "metadata": {},
   "outputs": [],
   "source": []
  }
 ],
 "metadata": {
  "kernelspec": {
   "display_name": "Python 3 (ipykernel)",
   "language": "python",
   "name": "python3"
  },
  "language_info": {
   "codemirror_mode": {
    "name": "ipython",
    "version": 3
   },
   "file_extension": ".py",
   "mimetype": "text/x-python",
   "name": "python",
   "nbconvert_exporter": "python",
   "pygments_lexer": "ipython3",
   "version": "3.9.13"
  }
 },
 "nbformat": 4,
 "nbformat_minor": 5
}
