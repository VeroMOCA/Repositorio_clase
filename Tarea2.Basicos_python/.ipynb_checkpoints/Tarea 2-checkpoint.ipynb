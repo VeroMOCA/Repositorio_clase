{
 "cells": [
  {
   "cell_type": "code",
   "execution_count": 4,
   "id": "54f6627b",
   "metadata": {},
   "outputs": [
    {
     "name": "stdout",
     "output_type": "stream",
     "text": [
      "La ciencia de datos es un campo interdisciplinario que, con mÃ©todos cientÃ­ficos, extrae conocimiento de datos estructurados o no estructurados. Es una combinaciÃ³n de campos de anÃ¡lisis de datos como la estadÃ­stica, la minerÃ­a de datos, el aprendizaje automÃ¡tico, y la analÃ­tica predictiva.\n",
      "\n",
      "El concepto ciencia de datos reÃºne estadÃ­sticas, anÃ¡lisis de datos, aprendizaje automÃ¡tico, y sus mÃ©todos relacionados, para comprender y analizar los fenÃ³menos reales. Emplea tÃ©cnicas y teorÃ­as extraÃ­das de muchos campos dentro del contexto de las matemÃ¡ticas, la estadÃ­stica, la ciencia de la informaciÃ³n, y la informÃ¡tica.\n",
      "\n",
      "El ganador del premio Turing, Jim Gray, imaginÃ³ la ciencia de datos como un \"cuarto paradigma\" de la ciencia (empÃ­rico, teÃ³rico, computacional, y ahora basado en datos), y afirmÃ³ que \"todo lo relacionado con la ciencia estÃ¡ cambiando debido al impacto de la tecnologÃ­a de la informaciÃ³n y el diluvio de datos\".\n",
      "\n",
      "En este nuevo paradigma, los investigadores se apoyan de sistemas y procesos que son muy diferentes a los utilizados en el pasado, como son modelos, ecuaciones, algoritmos, asÃ­ como evaluaciÃ³n e interpretaciÃ³n de resultados.\n"
     ]
    }
   ],
   "source": [
    "with open(\"ciencia_de_datos_wikipedia.txt\") as f:\n",
    "    texto = f.read()\n",
    "    \n",
    "print(texto)"
   ]
  },
  {
   "cell_type": "code",
   "execution_count": 8,
   "id": "cc28eac9",
   "metadata": {},
   "outputs": [
    {
     "name": "stdout",
     "output_type": "stream",
     "text": [
      "['La ciencia de datos es un campo interdisciplinario que, con mÃ©todos cientÃ\\xadficos, extrae conocimiento de datos estructurados o no estructurados. Es una combinaciÃ³n de campos de anÃ¡lisis de datos como la estadÃ\\xadstica, la minerÃ\\xada de datos, el aprendizaje automÃ¡tico, y la analÃ\\xadtica predictiva.', 'El concepto ciencia de datos reÃºne estadÃ\\xadsticas, anÃ¡lisis de datos, aprendizaje automÃ¡tico, y sus mÃ©todos relacionados, para comprender y analizar los fenÃ³menos reales. Emplea tÃ©cnicas y teorÃ\\xadas extraÃ\\xaddas de muchos campos dentro del contexto de las matemÃ¡ticas, la estadÃ\\xadstica, la ciencia de la informaciÃ³n, y la informÃ¡tica.', 'El ganador del premio Turing, Jim Gray, imaginÃ³ la ciencia de datos como un \"cuarto paradigma\" de la ciencia (empÃ\\xadrico, teÃ³rico, computacional, y ahora basado en datos), y afirmÃ³ que \"todo lo relacionado con la ciencia estÃ¡ cambiando debido al impacto de la tecnologÃ\\xada de la informaciÃ³n y el diluvio de datos\".', 'En este nuevo paradigma, los investigadores se apoyan de sistemas y procesos que son muy diferentes a los utilizados en el pasado, como son modelos, ecuaciones, algoritmos, asÃ\\xad como evaluaciÃ³n e interpretaciÃ³n de resultados.']\n"
     ]
    }
   ],
   "source": [
    "#Dividir por parrafos todo el texto\n",
    "parrafos_texto = texto.split(\"\\n\")\n",
    "for parrafo in parrafos_texto:\n",
    "    if parrafo == \"\":\n",
    "        parrafos_texto.remove(parrafo)\n",
    "print(parrafos_texto)"
   ]
  },
  {
   "cell_type": "code",
   "execution_count": 15,
   "id": "e442594e",
   "metadata": {},
   "outputs": [
    {
     "name": "stdout",
     "output_type": "stream",
     "text": [
      "En el parrafo hay 43 palabras\n",
      "En el parrafo hay 47 palabras\n",
      "En el parrafo hay 52 palabras\n",
      "En el parrafo hay 34 palabras\n",
      "[43, 47, 52, 34]\n"
     ]
    }
   ],
   "source": [
    "#Contabilizando palabras por parrafos\n",
    "palabras_parrafo = []\n",
    "contar_palabras = []\n",
    "for parrafo in parrafos_texto:\n",
    "    palabras = parrafo.split(\" \")\n",
    "    palabras_parrafo.append(palabras)\n",
    "    contar_palabras.append(len(palabras))\n",
    "    print(\"En el parrafo hay {} palabras\".format(len(palabras)))\n",
    "    \n",
    "print(contar_palabras)"
   ]
  },
  {
   "cell_type": "code",
   "execution_count": 30,
   "id": "8496f135",
   "metadata": {},
   "outputs": [
    {
     "name": "stdout",
     "output_type": "stream",
     "text": [
      "{'el', 'analizar', 'basado', 'a', 'estructurados.', 'y', 'algoritmos,', 'informaciã³n,', 'matemã¡ticas,', '\"todo', '(empã\\xadrico,', 'utilizados', 'nuevo', 'datos\".', 'anã¡lisis', 'relacionados,', 'analã\\xadtica', 'se', 'no', 'la', 'asã\\xad', 'datos,', 'minerã\\xada', 'de', 'o', 'reales.', 'una', 'paradigma,', 'muchos', 'conocimiento', 'este', 'estadã\\xadstica,', 'informaciã³n', 'mã©todos', 'comprender', 'extrae', 'campos', 'modelos,', 'investigadores', 'aprendizaje', 'evaluaciã³n', 'computacional,', 'los', 'interdisciplinario', 'apoyan', 'sistemas', 'estadã\\xadsticas,', 'en', 'tã©cnicas', 'fenã³menos', 'ganador', 'interpretaciã³n', 'diluvio', 'teorã\\xadas', 'son', 'que', 'datos),', 'teã³rico,', 'emplea', 'e', 'turing,', 'jim', 'dentro', 'datos', 'ciencia', 'concepto', 'automã¡tico,', 'al', '\"cuarto', 'paradigma\"', 'reãºne', 'debido', 'cambiando', 'procesos', 'lo', 'imaginã³', 'estructurados', 'sus', 'informã¡tica.', 'campo', 'como', 'extraã\\xaddas', 'las', 'con', 'contexto', 'impacto', 'afirmã³', 'tecnologã\\xada', 'muy', 'ahora', 'gray,', 'ecuaciones,', 'combinaciã³n', 'pasado,', 'resultados.', 'cientã\\xadficos,', 'relacionado', 'un', 'estã¡', 'es', 'que,', 'diferentes', 'para', 'del', 'predictiva.', 'premio'}\n"
     ]
    }
   ],
   "source": [
    "#Analizando cuantas palabras unicas existen en todo el texto\n",
    "#Primero juntamos todas las listas en una sola\n",
    "todas_palabras = palabras_parrafo[0]+palabras_parrafo[1]+palabras_parrafo[2]+palabras_parrafo[3]\n",
    "palabras_temp=[]\n",
    "#print(todas_palabras)\n",
    "#Quitamos los casos especiales de palabras en mayusculas para que no haya repeticion.\n",
    "for palabra in todas_palabras:\n",
    "    palabras_temp.append(palabra.lower())\n",
    "\n",
    "palabras_unicas = set(palabras_temp)\n",
    "print(palabras_unicas)"
   ]
  },
  {
   "cell_type": "code",
   "execution_count": 39,
   "id": "34467c56",
   "metadata": {},
   "outputs": [
    {
     "name": "stdout",
     "output_type": "stream",
     "text": [
      "[2, 7, 2, 5, 2, 2, 5, 18, 4, 3, 8, 13, 6, 12, 2, 5, 13, 1, 2, 14, 2, 3, 12, 2, 6, 2, 9, 2, 5, 4, 2, 13, 2, 8, 2, 6, 2, 11, 12, 1, 2, 10, 11, 2, 8, 7, 2, 5, 6, 14, 9, 2, 6, 11, 12, 1, 3, 8, 13, 4, 10, 1, 8, 3, 10, 7, 6, 9, 1, 8, 10, 2, 6, 6, 6, 3, 8, 2, 3, 13, 2, 13, 2, 7, 2, 2, 13, 1, 2, 13, 2, 7, 3, 6, 7, 3, 5, 8, 2, 7, 2, 5, 4, 2, 7, 10, 2, 2, 7, 11, 9, 14, 1, 5, 6, 2, 7, 1, 7, 3, 5, 2, 11, 3, 2, 7, 5, 9, 6, 2, 7, 2, 2, 11, 2, 2, 12, 1, 2, 7, 2, 7, 2, 4, 5, 10, 3, 14, 2, 6, 2, 8, 1, 8, 3, 3, 3, 10, 1, 3, 10, 2, 2, 7, 4, 3, 8, 11, 11, 4, 4, 11, 1, 15, 2, 11]\n"
     ]
    }
   ],
   "source": [
    "#Contando caracteres de todas las palabras del texto\n",
    "caracteres_totales=[]\n",
    "for palabra in todas_palabras:\n",
    "    caracteres_totales.append(len(palabra))\n",
    "    \n",
    "print(caracteres_totales)"
   ]
  },
  {
   "cell_type": "code",
   "execution_count": 47,
   "id": "23a0b774",
   "metadata": {},
   "outputs": [
    {
     "name": "stdout",
     "output_type": "stream",
     "text": [
      "1007\n"
     ]
    }
   ],
   "source": [
    "#Sumando el total de caracteres\n",
    "suma_caracteres = 0\n",
    "for i in caracteres_totales:\n",
    "    suma_caracteres = suma_caracteres+int(i)\n",
    "\n",
    "print(suma_caracteres)"
   ]
  },
  {
   "cell_type": "code",
   "execution_count": 59,
   "id": "e080c81a",
   "metadata": {},
   "outputs": [
    {
     "name": "stdout",
     "output_type": "stream",
     "text": [
      "{'Ã', '\\xad', 'b', 'g', 'a', 't', 'E', 'y', 'J', 's', 'f', 'j', 'x', 'e', 'L', 'º', '.', 'z', 'n', ')', '©', ',', '³', 'c', 'l', 'G', 'p', '¡', 'q', 'r', 'T', 'd', 'm', 'o', '(', 'u', 'h', '\"', 'i', 'v'}\n"
     ]
    }
   ],
   "source": [
    "#Creando una lista de todos los caracteres \n",
    "lista_caracteres= []\n",
    "for palabra in todas_palabras:\n",
    "    for i in range(len(palabra)):\n",
    "        lista_caracteres.append(palabra[i])\n",
    "\n",
    "caracteres_unicos= set(lista_caracteres)\n",
    "\n",
    "print(caracteres_unicos)"
   ]
  }
 ],
 "metadata": {
  "kernelspec": {
   "display_name": "Python 3 (ipykernel)",
   "language": "python",
   "name": "python3"
  },
  "language_info": {
   "codemirror_mode": {
    "name": "ipython",
    "version": 3
   },
   "file_extension": ".py",
   "mimetype": "text/x-python",
   "name": "python",
   "nbconvert_exporter": "python",
   "pygments_lexer": "ipython3",
   "version": "3.9.13"
  }
 },
 "nbformat": 4,
 "nbformat_minor": 5
}
